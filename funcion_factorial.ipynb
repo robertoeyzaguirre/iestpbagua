{
  "nbformat": 4,
  "nbformat_minor": 0,
  "metadata": {
    "colab": {
      "provenance": [],
      "authorship_tag": "ABX9TyOJK+afaT7ZdLGMb9YZUi9R",
      "include_colab_link": true
    },
    "kernelspec": {
      "name": "python3",
      "display_name": "Python 3"
    },
    "language_info": {
      "name": "python"
    }
  },
  "cells": [
    {
      "cell_type": "markdown",
      "metadata": {
        "id": "view-in-github",
        "colab_type": "text"
      },
      "source": [
        "<a href=\"https://colab.research.google.com/github/robertoeyzaguirre/iestpbagua/blob/master/funcion_factorial.ipynb\" target=\"_parent\"><img src=\"https://colab.research.google.com/assets/colab-badge.svg\" alt=\"Open In Colab\"/></a>"
      ]
    },
    {
      "cell_type": "code",
      "execution_count": 2,
      "metadata": {
        "colab": {
          "base_uri": "https://localhost:8080/"
        },
        "id": "Ok0-p7BFIpzY",
        "outputId": "1cffd87c-2153-4e3d-d22e-408d100ef700"
      },
      "outputs": [
        {
          "output_type": "stream",
          "name": "stdout",
          "text": [
            "1 1\n",
            "2 2\n",
            "3 6\n",
            "4 24\n",
            "5 120\n"
          ]
        }
      ],
      "source": [
        "#funcion q calcula el factorial de un numero\n",
        "def factorial_function(n):\n",
        "  if n<0:\n",
        "    return None\n",
        "  if n<2:\n",
        "    return 1\n",
        "  prod = 1\n",
        "  for i in range(2, n+1):\n",
        "    prod = prod*i\n",
        "\n",
        "  return prod\n",
        "\n",
        "#probando\n",
        "for n in range(1,6):\n",
        "  print (n, factorial_function(n))"
      ]
    },
    {
      "cell_type": "code",
      "source": [],
      "metadata": {
        "id": "1ltwDZzEI4_b"
      },
      "execution_count": null,
      "outputs": []
    }
  ]
}