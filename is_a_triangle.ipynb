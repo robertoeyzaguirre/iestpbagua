{
  "nbformat": 4,
  "nbformat_minor": 0,
  "metadata": {
    "colab": {
      "provenance": [],
      "authorship_tag": "ABX9TyPQViKFVWw4F6+VRwKrwzmW",
      "include_colab_link": true
    },
    "kernelspec": {
      "name": "python3",
      "display_name": "Python 3"
    },
    "language_info": {
      "name": "python"
    }
  },
  "cells": [
    {
      "cell_type": "markdown",
      "metadata": {
        "id": "view-in-github",
        "colab_type": "text"
      },
      "source": [
        "<a href=\"https://colab.research.google.com/github/robertoeyzaguirre/iestpbagua/blob/master/is_a_triangle.ipynb\" target=\"_parent\"><img src=\"https://colab.research.google.com/assets/colab-badge.svg\" alt=\"Open In Colab\"/></a>"
      ]
    },
    {
      "cell_type": "code",
      "execution_count": 3,
      "metadata": {
        "colab": {
          "base_uri": "https://localhost:8080/"
        },
        "id": "Bwmhgv3r3SdN",
        "outputId": "9ed84fa2-dd52-4448-efe1-9e7499c60b56"
      },
      "outputs": [
        {
          "output_type": "stream",
          "name": "stdout",
          "text": [
            "True\n",
            "False\n"
          ]
        }
      ],
      "source": [
        "#determina si la long de los lados ingresados corresponden a un triangulo\n",
        "def is_a_triangle(a,b,c):\n",
        "  if a+b<=c:\n",
        "    return False\n",
        "  if a+c<=b:\n",
        "    return False\n",
        "  if c+b<=a:\n",
        "    return False\n",
        "  return True\n",
        "\n",
        "print (is_a_triangle(3,4,5))\n",
        "print (is_a_triangle(1,2,3))"
      ]
    },
    {
      "cell_type": "code",
      "source": [],
      "metadata": {
        "id": "xPTZcp8i3dCz"
      },
      "execution_count": null,
      "outputs": []
    }
  ]
}