{
  "nbformat": 4,
  "nbformat_minor": 0,
  "metadata": {
    "colab": {
      "provenance": [],
      "authorship_tag": "ABX9TyO1PH21g0UJJDpMUgrBnaGE",
      "include_colab_link": true
    },
    "kernelspec": {
      "name": "python3",
      "display_name": "Python 3"
    },
    "language_info": {
      "name": "python"
    }
  },
  "cells": [
    {
      "cell_type": "markdown",
      "metadata": {
        "id": "view-in-github",
        "colab_type": "text"
      },
      "source": [
        "<a href=\"https://colab.research.google.com/github/robertoeyzaguirre/iestpbagua/blob/master/fobinacci.ipynb\" target=\"_parent\"><img src=\"https://colab.research.google.com/assets/colab-badge.svg\" alt=\"Open In Colab\"/></a>"
      ]
    },
    {
      "cell_type": "code",
      "execution_count": 2,
      "metadata": {
        "colab": {
          "base_uri": "https://localhost:8080/"
        },
        "id": "SjUkFuiUKmBX",
        "outputId": "08533bc7-73c3-44c5-8804-d95cc063b20a"
      },
      "outputs": [
        {
          "output_type": "stream",
          "name": "stdout",
          "text": [
            "1 1\n",
            "2 1\n",
            "3 2\n",
            "4 3\n",
            "5 5\n"
          ]
        }
      ],
      "source": [
        "#calcula la serie de fibonaci\n",
        "def fibonnaci(n):\n",
        "  if n<1:\n",
        "    return None\n",
        "  if n<3:\n",
        "    return 1\n",
        "  elem1 = elem2 = 1\n",
        "  sum =0\n",
        "  for i in range(3, n+1):\n",
        "    sum = elem1 + elem2\n",
        "    elem1, elem2 = elem2, sum\n",
        "  return sum\n",
        "\n",
        "#probando\n",
        "for n in range(1, 6):\n",
        "  print(n, fibonnaci(n))\n",
        "\n",
        "\n"
      ]
    }
  ]
}