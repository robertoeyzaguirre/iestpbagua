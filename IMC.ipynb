{
  "nbformat": 4,
  "nbformat_minor": 0,
  "metadata": {
    "colab": {
      "provenance": [],
      "authorship_tag": "ABX9TyP3pVLLD9ds1JGweGv5FmiK",
      "include_colab_link": true
    },
    "kernelspec": {
      "name": "python3",
      "display_name": "Python 3"
    },
    "language_info": {
      "name": "python"
    }
  },
  "cells": [
    {
      "cell_type": "markdown",
      "metadata": {
        "id": "view-in-github",
        "colab_type": "text"
      },
      "source": [
        "<a href=\"https://colab.research.google.com/github/robertoeyzaguirre/iestpbagua/blob/master/IMC.ipynb\" target=\"_parent\"><img src=\"https://colab.research.google.com/assets/colab-badge.svg\" alt=\"Open In Colab\"/></a>"
      ]
    },
    {
      "cell_type": "code",
      "execution_count": 4,
      "metadata": {
        "colab": {
          "base_uri": "https://localhost:8080/"
        },
        "id": "Zc52ps2xzvIl",
        "outputId": "865a990e-5f50-4d88-ce96-124027dbdf2b"
      },
      "outputs": [
        {
          "output_type": "stream",
          "name": "stdout",
          "text": [
            "Ingrese el peso de la persona en Kg: 50\n",
            "Ingrese la altura  de la persona en metros: 1.50\n",
            "El IMC es: 22.22222222222222\n"
          ]
        }
      ],
      "source": [
        "#funcion q calcula el IMC\n",
        "def IMC(peso, altura):\n",
        "    if peso > 0 and altura>0:\n",
        "      return peso/(altura*altura)\n",
        "    else:\n",
        "      print(\"El peso o altura deben ser mayor que cero\")\n",
        "\n",
        "peso=float(input(\"Ingrese el peso de la persona en Kg: \"))\n",
        "altura=float(input(\"Ingrese la altura  de la persona en metros: \"))\n",
        "imc = IMC(peso, altura)\n",
        "print(\"El IMC es:\", imc)\n"
      ]
    }
  ]
}