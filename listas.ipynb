{
  "nbformat": 4,
  "nbformat_minor": 0,
  "metadata": {
    "colab": {
      "provenance": [],
      "authorship_tag": "ABX9TyOmkd04warf2YnQLBHulO5o",
      "include_colab_link": true
    },
    "kernelspec": {
      "name": "python3",
      "display_name": "Python 3"
    },
    "language_info": {
      "name": "python"
    }
  },
  "cells": [
    {
      "cell_type": "markdown",
      "metadata": {
        "id": "view-in-github",
        "colab_type": "text"
      },
      "source": [
        "<a href=\"https://colab.research.google.com/github/robertoeyzaguirre/iestpbagua/blob/master/listas.ipynb\" target=\"_parent\"><img src=\"https://colab.research.google.com/assets/colab-badge.svg\" alt=\"Open In Colab\"/></a>"
      ]
    },
    {
      "cell_type": "code",
      "execution_count": 2,
      "metadata": {
        "colab": {
          "base_uri": "https://localhost:8080/"
        },
        "id": "ZbeJ4xnhTK3j",
        "outputId": "255d3faa-494f-4abe-c9fb-7923bb59fdfb"
      },
      "outputs": [
        {
          "output_type": "stream",
          "name": "stdout",
          "text": [
            "[1, 2, 3, 4, 5, 6, 7, 8, 9]\n",
            "[1, 2, 3, 4, 66, 6, 7, 8, 9]\n"
          ]
        }
      ],
      "source": [
        "#listas\n",
        "lista=[]\n",
        "for i in range(1, 10):\n",
        "  lista.append(i)\n",
        "\n",
        "print(lista)\n",
        "#actualizando lista\n",
        "lista[4] = 66\n",
        "print(lista)\n"
      ]
    }
  ]
}